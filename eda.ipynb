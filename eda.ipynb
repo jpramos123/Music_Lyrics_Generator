{
 "cells": [
  {
   "cell_type": "code",
   "execution_count": 152,
   "metadata": {},
   "outputs": [
    {
     "output_type": "stream",
     "name": "stderr",
     "text": [
      "[nltk_data] Downloading package stopwords to\n[nltk_data]     /Users/jramos/nltk_data...\n[nltk_data]   Package stopwords is already up-to-date!\n"
     ]
    }
   ],
   "source": [
    "import pandas as pd\n",
    "from bs4 import BeautifulSoup\n",
    "import string\n",
    "import nltk\n",
    "nltk.download('stopwords')\n",
    "from nltk.corpus import stopwords\n",
    "import numpy as np\n",
    "from sklearn import preprocessing\n",
    "import collections\n",
    "import tqdm\n",
    "import numpy as np\n",
    "import os\n",
    "import re\n",
    "import itertools\n",
    "from nltk import ngrams"
   ]
  },
  {
   "cell_type": "code",
   "execution_count": 3,
   "metadata": {},
   "outputs": [],
   "source": [
    "def remove_html(text):\n",
    "    soup = BeautifulSoup(text, 'lxml')\n",
    "    html_free = soup.text\n",
    "    return html_free"
   ]
  },
  {
   "cell_type": "code",
   "execution_count": 4,
   "metadata": {},
   "outputs": [],
   "source": [
    "def buildTransitionTable(row, graph, reverse_dict):\n",
    "    phrase = row['VLyric']\n",
    "    #context = row['type']\n",
    "\n",
    "    for j in range(len(phrase)):\n",
    "        # Valida se a palavra atual tem vizinho\n",
    "        if j+1 >= len(phrase):\n",
    "            pass\n",
    "        else:\n",
    "            \n",
    "            # Se tem vizinho, incrementa na interseção\n",
    "            graph[reverse_dict[phrase[j]]][reverse_dict[phrase[j+1]]] += 1\n",
    "            graph[reverse_dict[phrase[j+1]]][reverse_dict[phrase[j]]] += 1"
   ]
  },
  {
   "cell_type": "code",
   "execution_count": 5,
   "metadata": {},
   "outputs": [],
   "source": [
    "def buildEmissionTable(row, emissionTable, reverseDictGenres, reverseDictWords):\n",
    "    phrase = row['VLyric']\n",
    "    genre = row['Genre']\n",
    "\n",
    "    for j in range(len(phrase)):\n",
    "        emission_table[reverseDictGenres[genre]][reverseDictWords[phrase[j]]] += 1"
   ]
  },
  {
   "cell_type": "code",
   "execution_count": 192,
   "metadata": {},
   "outputs": [],
   "source": [
    "def remove_punctuation(text):\n",
    "    clean_txt = \"\".join([c for c in text if c not in string.punctuation])\n",
    "    return clean_txt"
   ]
  },
  {
   "cell_type": "code",
   "execution_count": 308,
   "metadata": {},
   "outputs": [
    {
     "output_type": "execute_result",
     "data": {
      "text/plain": [
       "'!\"#$%&\\'()*+,-./:;<=>?@[\\\\]^_`{|}~'"
      ]
     },
     "metadata": {},
     "execution_count": 308
    }
   ],
   "source": [
    "string.punctuation"
   ]
  },
  {
   "cell_type": "code",
   "execution_count": 195,
   "metadata": {},
   "outputs": [],
   "source": [
    "artists = pd.read_csv('artists-data.csv')\n",
    "lyrics = pd.read_csv('lyrics-data.csv')"
   ]
  },
  {
   "cell_type": "code",
   "execution_count": 196,
   "metadata": {},
   "outputs": [],
   "source": [
    "artists_filtered = artists[['Genre']].join(artists[['Link']].drop_duplicates())\n",
    "artists_filtered = artists_filtered.loc[~artists_filtered['Link'].isnull()]"
   ]
  },
  {
   "cell_type": "code",
   "execution_count": 197,
   "metadata": {},
   "outputs": [],
   "source": [
    "en_lyrics = lyrics.loc[lyrics['Idiom'] == 'ENGLISH']\n",
    "en_lyrics = en_lyrics.join(artists_filtered.set_index('Link'), on='ALink')\n",
    "en_lyrics = en_lyrics.loc[en_lyrics['Genre'].isin(['Rock', 'Pop', 'Hip Hop'])]\n",
    "del lyrics"
   ]
  },
  {
   "cell_type": "code",
   "execution_count": 198,
   "metadata": {},
   "outputs": [
    {
     "output_type": "execute_result",
     "data": {
      "text/plain": [
       "(600, 6)"
      ]
     },
     "metadata": {},
     "execution_count": 198
    }
   ],
   "source": [
    "en_lyrics = pd.concat([en_lyrics[:200],en_lyrics[80000:80200],en_lyrics[-200:]])\n",
    "en_lyrics.shape"
   ]
  },
  {
   "cell_type": "code",
   "execution_count": 199,
   "metadata": {},
   "outputs": [
    {
     "output_type": "execute_result",
     "data": {
      "text/plain": [
       "array(['Rock', 'Pop', 'Hip Hop'], dtype=object)"
      ]
     },
     "metadata": {},
     "execution_count": 199
    }
   ],
   "source": [
    "en_lyrics['Genre'].unique()"
   ]
  },
  {
   "cell_type": "code",
   "execution_count": 200,
   "metadata": {},
   "outputs": [],
   "source": [
    "en_lyrics['Lyric'] = en_lyrics['Lyric'].str.lower()\n",
    "en_lyrics = en_lyrics[['Lyric','Genre']]"
   ]
  },
  {
   "cell_type": "code",
   "execution_count": 201,
   "metadata": {},
   "outputs": [],
   "source": [
    "en_lyrics['Lyric'] = en_lyrics['Lyric'].apply(lambda  text: remove_html(text))\n",
    "en_lyrics['Lyric'] = en_lyrics['Lyric'].apply(lambda  text: remove_punctuation(text))"
   ]
  },
  {
   "cell_type": "code",
   "execution_count": 202,
   "metadata": {},
   "outputs": [],
   "source": [
    "en_lyrics['VLyric'] = en_lyrics['Lyric'].apply(lambda  text: text.split())"
   ]
  },
  {
   "cell_type": "code",
   "execution_count": 15,
   "metadata": {},
   "outputs": [],
   "source": [
    "# Transforma as frases por linha em palavras por linha\n",
    "word_type = pd.DataFrame(en_lyrics['VLyric'].apply(pd.Series,1).stack())\n",
    "word_type = word_type.droplevel(1)\n",
    "word_type = word_type.merge(en_lyrics['Genre'].to_frame(),  left_index=True, right_index=True)"
   ]
  },
  {
   "cell_type": "code",
   "execution_count": 16,
   "metadata": {},
   "outputs": [],
   "source": [
    "word_type.rename(columns={0:\"words\"}, inplace=True)"
   ]
  },
  {
   "cell_type": "code",
   "execution_count": 17,
   "metadata": {},
   "outputs": [],
   "source": [
    "unique_words = word_type['words'].unique()\n",
    "reverse_dict_words = {unique_words[i]:i for i in range(len(unique_words))}"
   ]
  },
  {
   "cell_type": "code",
   "execution_count": 18,
   "metadata": {},
   "outputs": [
    {
     "output_type": "execute_result",
     "data": {
      "text/plain": [
       "0         None\n",
       "1         None\n",
       "2         None\n",
       "3         None\n",
       "4         None\n",
       "          ... \n",
       "189254    None\n",
       "189255    None\n",
       "189256    None\n",
       "189257    None\n",
       "189258    None\n",
       "Length: 600, dtype: object"
      ]
     },
     "metadata": {},
     "execution_count": 18
    }
   ],
   "source": [
    "transition_table = np.zeros((len(unique_words), len(unique_words)), dtype=int)\n",
    "en_lyrics.apply(lambda row: buildTransitionTable(row, transition_table, reverse_dict_words), axis=1)"
   ]
  },
  {
   "cell_type": "code",
   "execution_count": 19,
   "metadata": {},
   "outputs": [],
   "source": [
    "transition_table_norm = preprocessing.normalize(transition_table, 'l1')"
   ]
  },
  {
   "source": [
    "unique_genres = en_lyrics['Genre'].unique()"
   ],
   "cell_type": "code",
   "metadata": {},
   "execution_count": 20,
   "outputs": []
  },
  {
   "cell_type": "code",
   "execution_count": 21,
   "metadata": {},
   "outputs": [
    {
     "output_type": "execute_result",
     "data": {
      "text/plain": [
       "array(['Rock', 'Pop', 'Hip Hop'], dtype=object)"
      ]
     },
     "metadata": {},
     "execution_count": 21
    }
   ],
   "source": [
    "unique_genres"
   ]
  },
  {
   "cell_type": "code",
   "execution_count": 22,
   "metadata": {},
   "outputs": [],
   "source": [
    "reverse_dict_genre = {unique_genres[i]: i for i in range(len(unique_genres))}"
   ]
  },
  {
   "cell_type": "code",
   "execution_count": 23,
   "metadata": {},
   "outputs": [
    {
     "output_type": "execute_result",
     "data": {
      "text/plain": [
       "{'Rock': 0, 'Pop': 1, 'Hip Hop': 2}"
      ]
     },
     "metadata": {},
     "execution_count": 23
    }
   ],
   "source": [
    "reverse_dict_genre"
   ]
  },
  {
   "cell_type": "code",
   "execution_count": 27,
   "metadata": {},
   "outputs": [
    {
     "output_type": "execute_result",
     "data": {
      "text/plain": [
       "0         None\n",
       "1         None\n",
       "2         None\n",
       "3         None\n",
       "4         None\n",
       "          ... \n",
       "189254    None\n",
       "189255    None\n",
       "189256    None\n",
       "189257    None\n",
       "189258    None\n",
       "Length: 600, dtype: object"
      ]
     },
     "metadata": {},
     "execution_count": 27
    }
   ],
   "source": [
    "emission_table = np.zeros((len(unique_genres), len(unique_words)), dtype=int)\n",
    "en_lyrics.apply(lambda row: buildEmissionTable(row, emission_table, reverse_dict_genre, reverse_dict_words), axis=1)"
   ]
  },
  {
   "cell_type": "code",
   "execution_count": 28,
   "metadata": {},
   "outputs": [],
   "source": [
    "emission_table_norm = preprocessing.normalize(emission_table, 'l1')"
   ]
  },
  {
   "cell_type": "code",
   "execution_count": 98,
   "metadata": {},
   "outputs": [],
   "source": [
    "def generateText(currentWord,\n",
    "                genre,\n",
    "                transitionTable, \n",
    "                emissionTable, \n",
    "                reverseDictWords, \n",
    "                reverseDictGenre):\n",
    "\n",
    "    import numpy as np\n",
    "    import math\n",
    "\n",
    "    count = 0\n",
    "    generatedText = []\n",
    "    while count < 20:\n",
    "        if currentWord in reverseDictWords.keys():\n",
    "            currWordIdx = reverseDictWords[currentWord]\n",
    "            maxProb = -math.inf\n",
    "            #maxProbIdx = -1\n",
    "            finalNextWord = ''\n",
    "            for nextWord in reverseDictWords.keys():\n",
    "                nextWordIdx = reverseDictWords[nextWord]\n",
    "                transition_prob = transitionTable[currWordIdx][nextWordIdx]\n",
    "                emission_prob = emissionTable[reverseDictGenre[genre]][nextWordIdx]\n",
    "                final_prob = 0\n",
    "                if transition_prob > 0 and emission_prob > 0:\n",
    "                    final_prob = np.log(transition_prob) + np.log(emission_prob)\n",
    "                    \n",
    "                    if final_prob > maxProb:\n",
    "                        maxProb = final_prob\n",
    "                        finalNextWord = nextWord\n",
    "                        \n",
    "        generatedText.append(finalNextWord)       \n",
    "        currentWord = finalNextWord             \n",
    "        count += 1\n",
    "\n",
    "    return generatedText\n"
   ]
  },
  {
   "cell_type": "code",
   "execution_count": 122,
   "metadata": {
    "tags": []
   },
   "outputs": [
    {
     "output_type": "execute_result",
     "data": {
      "text/plain": [
       "['the',\n",
       " 'in',\n",
       " 'the',\n",
       " 'in',\n",
       " 'the',\n",
       " 'in',\n",
       " 'the',\n",
       " 'in',\n",
       " 'the',\n",
       " 'in',\n",
       " 'the',\n",
       " 'in',\n",
       " 'the',\n",
       " 'in',\n",
       " 'the',\n",
       " 'in',\n",
       " 'the',\n",
       " 'in',\n",
       " 'the',\n",
       " 'in']"
      ]
     },
     "metadata": {},
     "execution_count": 122
    }
   ],
   "source": [
    "generateText('take', 'Rock', transition_table_norm, emission_table_norm, reverse_dict_words, reverse_dict_genre)"
   ]
  },
  {
   "cell_type": "code",
   "execution_count": 113,
   "metadata": {},
   "outputs": [
    {
     "output_type": "execute_result",
     "data": {
      "text/plain": [
       "64"
      ]
     },
     "metadata": {},
     "execution_count": 113
    }
   ],
   "source": [
    "reverse_dict_words['and']"
   ]
  },
  {
   "cell_type": "code",
   "execution_count": 119,
   "metadata": {},
   "outputs": [
    {
     "output_type": "execute_result",
     "data": {
      "text/plain": [
       "0.06053189753630282"
      ]
     },
     "metadata": {},
     "execution_count": 119
    }
   ],
   "source": [
    "transition_table_norm[64][0]"
   ]
  },
  {
   "source": [
    "# Otimização do Modelo\n",
    "\n",
    "Para melhorar a precisão do modelo, aumentei o grau do grafo para que o mesmo encontre conexões diferentes entre as palavras (que são os nós do grafo).\n",
    "\n",
    "Para aumentar o grau do grafo devemos seguir as seguintes etapas:\n",
    "\n",
    "1) Salvar o grafo inicial\n",
    "\n",
    "2) Multiplicar o grafo por ele mesmo\n",
    "\n",
    "3) Somar o resultado da multiplicação com o grafo inicial\n",
    "\n",
    "4) Normalizar o grafo final"
   ],
   "cell_type": "markdown",
   "metadata": {}
  },
  {
   "cell_type": "code",
   "execution_count": 51,
   "metadata": {},
   "outputs": [],
   "source": [
    "transition_table_norm_rw = transition_table_norm.copy()"
   ]
  },
  {
   "cell_type": "code",
   "execution_count": 53,
   "metadata": {},
   "outputs": [],
   "source": [
    "new_trans_table = np.matmul(transition_table_norm_rw, transition_table_norm_rw)"
   ]
  },
  {
   "cell_type": "code",
   "execution_count": 54,
   "metadata": {},
   "outputs": [],
   "source": [
    "final_trasition_table = new_trans_table + transition_table_norm_rw\n",
    "final_trasition_table = preprocessing.normalize(final_trasition_table, 'l1')"
   ]
  },
  {
   "cell_type": "code",
   "execution_count": 55,
   "metadata": {},
   "outputs": [
    {
     "output_type": "execute_result",
     "data": {
      "text/plain": [
       "array([[8.40640717e-02, 4.41082406e-03, 5.59071556e-03, ...,\n",
       "        2.74496180e-06, 1.83544091e-06, 3.45455554e-06],\n",
       "       [1.09044274e-01, 2.18770513e-02, 7.02432351e-03, ...,\n",
       "        3.65826801e-07, 0.00000000e+00, 1.24980628e-06],\n",
       "       [9.76913308e-02, 4.96489427e-03, 2.03594535e-02, ...,\n",
       "        1.76694168e-06, 1.42930550e-05, 0.00000000e+00],\n",
       "       ...,\n",
       "       [1.51329744e-02, 8.15793767e-05, 5.57470099e-04, ...,\n",
       "        9.14687883e-05, 0.00000000e+00, 0.00000000e+00],\n",
       "       [1.01187857e-02, 0.00000000e+00, 4.50945886e-03, ...,\n",
       "        0.00000000e+00, 1.70234349e-03, 0.00000000e+00],\n",
       "       [1.90449647e-02, 2.78706800e-04, 0.00000000e+00, ...,\n",
       "        0.00000000e+00, 0.00000000e+00, 7.38897099e-04]])"
      ]
     },
     "metadata": {},
     "execution_count": 55
    }
   ],
   "source": [
    "final_trasition_table"
   ]
  },
  {
   "cell_type": "code",
   "execution_count": 58,
   "metadata": {},
   "outputs": [
    {
     "output_type": "execute_result",
     "data": {
      "text/plain": [
       "array(['i', 'could', 'feel', ..., 'mom', 'spicy', 'toilet'], dtype=object)"
      ]
     },
     "metadata": {},
     "execution_count": 58
    }
   ],
   "source": [
    "unique_words"
   ]
  },
  {
   "cell_type": "code",
   "execution_count": 92,
   "metadata": {},
   "outputs": [
    {
     "output_type": "execute_result",
     "data": {
      "text/plain": [
       "0.10914353133622012"
      ]
     },
     "metadata": {},
     "execution_count": 92
    }
   ],
   "source": [
    "final_trasition_table[4][4]"
   ]
  },
  {
   "cell_type": "code",
   "execution_count": 125,
   "metadata": {},
   "outputs": [
    {
     "output_type": "execute_result",
     "data": {
      "text/plain": [
       "['that',\n",
       " 'i',\n",
       " 'i',\n",
       " 'i',\n",
       " 'i',\n",
       " 'i',\n",
       " 'i',\n",
       " 'i',\n",
       " 'i',\n",
       " 'i',\n",
       " 'i',\n",
       " 'i',\n",
       " 'i',\n",
       " 'i',\n",
       " 'i',\n",
       " 'i',\n",
       " 'i',\n",
       " 'i',\n",
       " 'i',\n",
       " 'i']"
      ]
     },
     "metadata": {},
     "execution_count": 125
    }
   ],
   "source": [
    "generateText('toilet', 'Rock', final_trasition_table, emission_table_norm, reverse_dict_words, reverse_dict_genre)"
   ]
  },
  {
   "source": [
    "## N-Grams"
   ],
   "cell_type": "markdown",
   "metadata": {}
  },
  {
   "cell_type": "code",
   "execution_count": 223,
   "metadata": {},
   "outputs": [],
   "source": [
    "def makeGramCount(text, n, gram_dict):\n",
    "    \"\"\" \n",
    "        This function return a dictionary with unique grams and the count of each\n",
    "    \"\"\"\n",
    "    n_limit = n - 1\n",
    "    loop_limit = len(text) - n_limit\n",
    "    for i in range(loop_limit):\n",
    "        current_seq = tuple(text[i:n+i])\n",
    "        if current_seq in gram_dict.keys():\n",
    "            gram_dict[current_seq] += 1\n",
    "        else:\n",
    "            gram_dict[current_seq] = 1\n"
   ]
  },
  {
   "cell_type": "code",
   "execution_count": 299,
   "metadata": {},
   "outputs": [],
   "source": [
    "def generateNgramText(text, gram_arr, reverseDictWords, reverseDictGenre, genre, emissionTable):\n",
    "\n",
    "    import numpy as np\n",
    "    import math\n",
    "\n",
    "\n",
    "    n = len(gram_arr)\n",
    "    count = 0\n",
    "    generatedText = []\n",
    "    while count < 20:\n",
    "        maxProb = -math.inf\n",
    "        finalNextWord = ''\n",
    "        for nextWord in reverseDictWords.keys():\n",
    "            try:\n",
    "                count_3 = gram_arr[2][(text[0], text[1], nextWord)]\n",
    "                count_2 = gram_arr[1][(text[0], text[1])]\n",
    "                count_1 = gram_arr[0][(text[0],)]\n",
    "                emissionProb = emissionTable[reverseDictGenre[genre]][reverseDictWords[nextWord]]\n",
    "            except KeyError:\n",
    "                continue\n",
    "\n",
    "            final_prob = np.log(count_3/count_2) + np.log(count_2/count_1) + np.log(count_1/total) + np.log(emissionProb)\n",
    "            \n",
    "            if final_prob > maxProb:\n",
    "                maxProb = final_prob\n",
    "                finalNextWord = nextWord\n",
    "    \n",
    "        generatedText.append(finalNextWord)  \n",
    "        text[0] = text[1]\n",
    "        text[1] = finalNextWord     \n",
    "        currentWord = finalNextWord             \n",
    "        count += 1\n",
    "\n",
    "    return generatedText\n"
   ]
  },
  {
   "cell_type": "code",
   "execution_count": 294,
   "metadata": {},
   "outputs": [
    {
     "output_type": "execute_result",
     "data": {
      "text/plain": [
       "array([], dtype=object)"
      ]
     },
     "metadata": {},
     "execution_count": 294
    }
   ],
   "source": [
    "unique_words[unique_words == '']"
   ]
  },
  {
   "cell_type": "code",
   "execution_count": null,
   "metadata": {},
   "outputs": [],
   "source": [
    "total = 0\n",
    "for w in uniGram.keys():\n",
    "    total = total + uniGram[w]"
   ]
  },
  {
   "cell_type": "code",
   "execution_count": 224,
   "metadata": {},
   "outputs": [
    {
     "output_type": "execute_result",
     "data": {
      "text/plain": [
       "0         None\n",
       "1         None\n",
       "2         None\n",
       "3         None\n",
       "4         None\n",
       "          ... \n",
       "189254    None\n",
       "189255    None\n",
       "189256    None\n",
       "189257    None\n",
       "189258    None\n",
       "Name: VLyric, Length: 600, dtype: object"
      ]
     },
     "metadata": {},
     "execution_count": 224
    }
   ],
   "source": [
    "threeGram = dict()\n",
    "biGram = dict()\n",
    "uniGram = dict()\n",
    "en_lyrics['VLyric'].apply(lambda row: makeGramCount(row, 3, threeGram))\n",
    "en_lyrics['VLyric'].apply(lambda row: makeGramCount(row, 2, biGram))\n",
    "en_lyrics['VLyric'].apply(lambda row: makeGramCount(row, 1, uniGram))"
   ]
  },
  {
   "cell_type": "code",
   "execution_count": 318,
   "metadata": {
    "tags": []
   },
   "outputs": [
    {
     "output_type": "stream",
     "name": "stderr",
     "text": [
      "<ipython-input-299-7df786765836>:22: RuntimeWarning: divide by zero encountered in log\n  final_prob = np.log(count_3/count_2) + np.log(count_2/count_1) + np.log(count_1/total) + np.log(emissionProb)\n"
     ]
    },
    {
     "output_type": "execute_result",
     "data": {
      "text/plain": [
       "['something',\n",
       " 'is',\n",
       " 'out',\n",
       " 'of',\n",
       " 'my',\n",
       " 'back',\n",
       " 'you',\n",
       " 'a',\n",
       " 'love',\n",
       " 'i',\n",
       " 'never',\n",
       " 'know',\n",
       " 'what',\n",
       " 'you',\n",
       " 'see',\n",
       " 'the',\n",
       " 'the',\n",
       " 'go',\n",
       " 'and',\n",
       " 'i']"
      ]
     },
     "metadata": {},
     "execution_count": 318
    }
   ],
   "source": [
    "generateNgramText(['being', 'taunted'], \n",
    "                  [uniGram, biGram, threeGram], \n",
    "                  reverse_dict_words, \n",
    "                  reverse_dict_genre, \n",
    "                  'Rock', \n",
    "                  emission_table_norm)"
   ]
  }
 ],
 "metadata": {
  "kernelspec": {
   "name": "python395jvsc74a57bd0aee8b7b246df8f9039afb4144a1f6fd8d2ca17a180786b69acc140d282b71a49",
   "display_name": "Python 3.9.5 64-bit"
  },
  "metadata": {
   "interpreter": {
    "hash": "aee8b7b246df8f9039afb4144a1f6fd8d2ca17a180786b69acc140d282b71a49"
   }
  }
 },
 "nbformat": 4,
 "nbformat_minor": 5
}